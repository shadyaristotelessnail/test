{
 "cells": [
  {
   "cell_type": "code",
   "execution_count": 3,
   "metadata": {},
   "outputs": [],
   "source": [
    "\n",
    "class Person:\n",
    "    __personenzaehler=0\n",
    "    def __init__(self, einVorname, einName):\n",
    "        self.vorname=einVorname\n",
    "        self.name=einName\n",
    "        "
   ]
  },
  {
   "cell_type": "code",
   "execution_count": 7,
   "metadata": {},
   "outputs": [],
   "source": [
    "class Student(Person):\n",
    "    __studentenzaehler = 0\n",
    "    \n",
    "    def __init__(self,einVorname, einName):\n",
    "        Student.__studentenzaehler += 1\n",
    "        Person.__init__(self, einVorname, einName)\n",
    "        self.__matrikelnummer=Student.__studentenzaehler\n",
    "        \n",
    "    def getVorname(self):\n",
    "            return self.vorname\n",
    "        \n",
    "    def getName(self):\n",
    "            return self.name\n",
    "        \n",
    "    def getMatrikelnummer(self):\n",
    "            return self.__matrikelnummer   "
   ]
  },
  {
   "cell_type": "code",
   "execution_count": 8,
   "metadata": {},
   "outputs": [],
   "source": [
    "Student1= Student('Hans', 'Knauf')"
   ]
  },
  {
   "cell_type": "code",
   "execution_count": null,
   "metadata": {},
   "outputs": [],
   "source": []
  }
 ],
 "metadata": {
  "kernelspec": {
   "display_name": "Python 3",
   "language": "python",
   "name": "python3"
  },
  "language_info": {
   "codemirror_mode": {
    "name": "ipython",
    "version": 3
   },
   "file_extension": ".py",
   "mimetype": "text/x-python",
   "name": "python",
   "nbconvert_exporter": "python",
   "pygments_lexer": "ipython3",
   "version": "3.6.4"
  }
 },
 "nbformat": 4,
 "nbformat_minor": 2
}
